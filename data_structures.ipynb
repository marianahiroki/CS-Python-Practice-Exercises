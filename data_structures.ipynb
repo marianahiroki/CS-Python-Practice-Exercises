{
 "cells": [
  {
   "cell_type": "markdown",
   "metadata": {},
   "source": [
    "# Exercises: Python Data Structures\n",
    "\n",
    "Work through the notebook, finding the answers to the questions programatically and assigning the values to the given variable names (don't change these names). Some questions will incorporate the answers found in previous questions.\n",
    "\n",
    "You will find instructions below about how to define each variable.\n",
    "\n",
    "Once you're happy with your code, submit your notebook to **KATE** to see how you have done!\n",
    "\n",
    "<br>\n",
    "<br>\n",
    "\n",
    "The following variables are assigned values below:\n",
    "\n",
    "`letters` (a randomly-ordered **list** of the 26 single lower-case alphabetical characters)   \n",
    "`storm_names`(a **string** of alphabetically-ordered names separated by `, ` each name with a unique upper-case first letter)  \n",
    "`wind_speeds` (a **list** of integers representing the maximum speed in mph of storms which have already happened)  \n",
    "\n",
    "\n",
    "You should write your code on the assumption that these variables could be assigned different values of the same type (as shown in the parentheses above) and still work to find the answers appropriate for those given values.\n",
    "\n",
    "Make sure you run the following code cell before you attempt any of the questions."
   ]
  },
  {
   "cell_type": "markdown",
   "metadata": {},
   "source": [
    "KATE expects your code to define variables with specific names that correspond to certain things we are interested in.\n",
    "\n",
    "KATE will run your notebook from top to bottom and check the latest value of those variables, so make sure you don't overwrite them.\n",
    "\n",
    "* Remember to uncomment the line assigning the variable to your answer and don't change the variable or function names.\n",
    "* Use copies of the original or previous DataFrames to make sure you do not overwrite them by mistake.\n",
    "\n",
    "You will find instructions below about how to define each variable.\n",
    "\n",
    "Once you're happy with your code, upload your notebook to KATE to check your feedback."
   ]
  },
  {
   "cell_type": "code",
   "execution_count": 1,
   "metadata": {},
   "outputs": [],
   "source": [
    "letters = ['q', 'w', 'e', 'r', 't', 'y', 'u', 'i', 'o', 'p', 'a', 's', 'd', \\\n",
    "           'f', 'g', 'h', 'j', 'k', 'l', 'z', 'x', 'c', 'v', 'b', 'n', 'm']\n",
    "\n",
    "storm_names = 'Atiyah, Brendan, Clara, Dennis, Ellen, Francis, Gerda, Hugh, Iris, Jan, \\\n",
    "Kitty, Liam, Maura, Noah, Olivia, Piet, Roisin, Samir, Tara, Vince, Willow'\n",
    "\n",
    "wind_speeds = [65, 77, 94, 102, 85]"
   ]
  },
  {
   "cell_type": "code",
   "execution_count": 2,
   "metadata": {},
   "outputs": [
    {
     "name": "stdout",
     "output_type": "stream",
     "text": [
      "['q', 'w', 'e', 'r', 't', 'y', 'u', 'i', 'o', 'p', 'a', 's', 'd', 'f', 'g', 'h', 'j', 'k', 'l', 'z', 'x', 'c', 'v', 'b', 'n', 'm']\n"
     ]
    }
   ],
   "source": [
    "print(letters)"
   ]
  },
  {
   "cell_type": "code",
   "execution_count": 3,
   "metadata": {},
   "outputs": [
    {
     "name": "stdout",
     "output_type": "stream",
     "text": [
      "Atiyah, Brendan, Clara, Dennis, Ellen, Francis, Gerda, Hugh, Iris, Jan, Kitty, Liam, Maura, Noah, Olivia, Piet, Roisin, Samir, Tara, Vince, Willow\n"
     ]
    }
   ],
   "source": [
    "print(storm_names)"
   ]
  },
  {
   "cell_type": "code",
   "execution_count": 4,
   "metadata": {},
   "outputs": [
    {
     "name": "stdout",
     "output_type": "stream",
     "text": [
      "[65, 77, 94, 102, 85]\n"
     ]
    }
   ],
   "source": [
    "print(wind_speeds)"
   ]
  },
  {
   "cell_type": "markdown",
   "metadata": {},
   "source": [
    "**Q1.** Use the `.split()` method to create a list called `storm_list` from the `storm_names` string.\n",
    "\n",
    "Each item in the list should be the name only, without any spaces or commas within each pair of quotation marks.\n",
    "\n",
    "See below code syntax for some guidance:\n",
    "```python\n",
    "a_string.split(sep=', ')\n",
    "```"
   ]
  },
  {
   "cell_type": "code",
   "execution_count": 5,
   "metadata": {
    "slideshow": {
     "slide_type": "skip"
    },
    "tags": [
     "solution"
    ]
   },
   "outputs": [
    {
     "data": {
      "text/plain": [
       "['Atiyah',\n",
       " 'Brendan',\n",
       " 'Clara',\n",
       " 'Dennis',\n",
       " 'Ellen',\n",
       " 'Francis',\n",
       " 'Gerda',\n",
       " 'Hugh',\n",
       " 'Iris',\n",
       " 'Jan',\n",
       " 'Kitty',\n",
       " 'Liam',\n",
       " 'Maura',\n",
       " 'Noah',\n",
       " 'Olivia',\n",
       " 'Piet',\n",
       " 'Roisin',\n",
       " 'Samir',\n",
       " 'Tara',\n",
       " 'Vince',\n",
       " 'Willow']"
      ]
     },
     "execution_count": 5,
     "metadata": {},
     "output_type": "execute_result"
    }
   ],
   "source": [
    "#Add your code below\n",
    "#storm_list = ...\n",
    "storm_list = storm_names.split(sep=', ')\n",
    "storm_list\n"
   ]
  },
  {
   "cell_type": "markdown",
   "metadata": {},
   "source": [
    "**Q2.** Use slice notation:\n",
    "\n",
    "```python\n",
    "a_list[start:stop:step]\n",
    "```\n",
    "to retrieve the storm names from `storm_list` which are in the 1st, 3rd, 5th, 7th, and 9th positions in the list (i.e. those beginning with A, C, E, G and I). Remember that Python uses zero-based indexing, so the first storm name is at position `[0]`. Assign the list to the `storms_slice` variable.\n",
    "\n",
    "The first answer on [this page](https://stackoverflow.com/questions/509211/understanding-slice-notation) of Stack Overflow (a resource you are likely to find very useful as you learn and work with Python!) has a very good explanation of the `slice` syntax."
   ]
  },
  {
   "cell_type": "code",
   "execution_count": 6,
   "metadata": {
    "slideshow": {
     "slide_type": "skip"
    }
   },
   "outputs": [
    {
     "data": {
      "text/plain": [
       "['Atiyah', 'Clara', 'Ellen', 'Gerda', 'Iris']"
      ]
     },
     "execution_count": 6,
     "metadata": {},
     "output_type": "execute_result"
    }
   ],
   "source": [
    "#Add your code below\n",
    "#storms_slice = ...\n",
    "storms_slice = storm_list[0:10:2]\n",
    "storms_slice\n"
   ]
  },
  {
   "cell_type": "markdown",
   "metadata": {},
   "source": [
    "**Q3.** Use the Python `sorted()` function to create a list called `alphabet` from the `letters` list, where the values are in alphabetical order.\n",
    "\n",
    "*The reason we suggest using the `sorted()` function here rather than the `.sort()` list method is that `sorted()` automatically creates a copy of `letters`, whereas `.sort()` sorts 'inplace', i.e. the original list would be modified rather than a new list created.*\n",
    "\n",
    "See below code syntax for some guidance:\n",
    "```python\n",
    "sorted(a_list)\n",
    "```"
   ]
  },
  {
   "cell_type": "code",
   "execution_count": 7,
   "metadata": {
    "slideshow": {
     "slide_type": "skip"
    }
   },
   "outputs": [
    {
     "data": {
      "text/plain": [
       "['a',\n",
       " 'b',\n",
       " 'c',\n",
       " 'd',\n",
       " 'e',\n",
       " 'f',\n",
       " 'g',\n",
       " 'h',\n",
       " 'i',\n",
       " 'j',\n",
       " 'k',\n",
       " 'l',\n",
       " 'm',\n",
       " 'n',\n",
       " 'o',\n",
       " 'p',\n",
       " 'q',\n",
       " 'r',\n",
       " 's',\n",
       " 't',\n",
       " 'u',\n",
       " 'v',\n",
       " 'w',\n",
       " 'x',\n",
       " 'y',\n",
       " 'z']"
      ]
     },
     "execution_count": 7,
     "metadata": {},
     "output_type": "execute_result"
    }
   ],
   "source": [
    "#Add your code below\n",
    "#alphabet = ...\n",
    "alphabet = sorted(letters)\n",
    "alphabet\n"
   ]
  },
  {
   "cell_type": "markdown",
   "metadata": {},
   "source": [
    "**Q4.** Find the index of the letter **'d'** in the list `alphabet` and assign it to the variable `index_d`.\n",
    "\n",
    "See below code syntax for some guidance:\n",
    "```python\n",
    "a_list.index(a_letter)\n",
    "```"
   ]
  },
  {
   "cell_type": "code",
   "execution_count": 8,
   "metadata": {
    "slideshow": {
     "slide_type": "skip"
    }
   },
   "outputs": [
    {
     "data": {
      "text/plain": [
       "3"
      ]
     },
     "execution_count": 8,
     "metadata": {},
     "output_type": "execute_result"
    }
   ],
   "source": [
    "#Add your code below\n",
    "index_d = alphabet.index('d')\n",
    "index_d\n",
    "\n"
   ]
  },
  {
   "cell_type": "markdown",
   "metadata": {},
   "source": [
    "**Q5.** How many names are there in `storm_list`? Assign your answer to `number_of_names`:\n",
    "\n",
    "See below code syntax for some guidance:\n",
    "```python\n",
    "len(a_list)\n",
    "```"
   ]
  },
  {
   "cell_type": "code",
   "execution_count": 9,
   "metadata": {
    "slideshow": {
     "slide_type": "skip"
    },
    "tags": [
     "solution"
    ]
   },
   "outputs": [
    {
     "data": {
      "text/plain": [
       "21"
      ]
     },
     "execution_count": 9,
     "metadata": {},
     "output_type": "execute_result"
    }
   ],
   "source": [
    "#Add your code below\n",
    "number_of_names = len(storm_list)\n",
    "number_of_names\n",
    "\n"
   ]
  },
  {
   "cell_type": "markdown",
   "metadata": {},
   "source": [
    "**Q6.** What's the 17th storm name in `storm_list`? Assign your answer to `storm_17`.\n",
    "\n",
    "Remember that Python uses zero-based indexing, so the first index position value is `0`:\n",
    "\n",
    "See below code syntax for some guidance:\n",
    "```python\n",
    "list_name[index_position_value]\n",
    "```"
   ]
  },
  {
   "cell_type": "code",
   "execution_count": 11,
   "metadata": {
    "slideshow": {
     "slide_type": "skip"
    },
    "tags": [
     "solution"
    ]
   },
   "outputs": [
    {
     "data": {
      "text/plain": [
       "'Roisin'"
      ]
     },
     "execution_count": 11,
     "metadata": {},
     "output_type": "execute_result"
    }
   ],
   "source": [
    "#Add your code below\n",
    "storm_17 = storm_list[16]\n",
    "storm_17\n",
    "\n"
   ]
  },
  {
   "cell_type": "markdown",
   "metadata": {},
   "source": [
    "**Q7.** Notice that there is no entry in `storm_list` that begins with **'Q'**(which is the 17th letter of the alphabet).\n",
    "\n",
    "- Write some code which creates a copy of the `storm_list` variable called `storm_list_extra`, use the `.copy()` method to create the `storm_list_extra` list\n",
    "- Next write some code which adds the name **`Quentin`** to the end of this new list `storm_list_extra`, you will find `.append()` method useful \n",
    "\n",
    "\n",
    "See below code syntax for some guidance:\n",
    "```python\n",
    "storm_list_extra = storm_list.copy()\n",
    "storm_list_extra.append(a_string_value)\n",
    "```"
   ]
  },
  {
   "cell_type": "code",
   "execution_count": 12,
   "metadata": {
    "slideshow": {
     "slide_type": "skip"
    }
   },
   "outputs": [
    {
     "data": {
      "text/plain": [
       "['Atiyah',\n",
       " 'Brendan',\n",
       " 'Clara',\n",
       " 'Dennis',\n",
       " 'Ellen',\n",
       " 'Francis',\n",
       " 'Gerda',\n",
       " 'Hugh',\n",
       " 'Iris',\n",
       " 'Jan',\n",
       " 'Kitty',\n",
       " 'Liam',\n",
       " 'Maura',\n",
       " 'Noah',\n",
       " 'Olivia',\n",
       " 'Piet',\n",
       " 'Roisin',\n",
       " 'Samir',\n",
       " 'Tara',\n",
       " 'Vince',\n",
       " 'Willow',\n",
       " 'Quentin']"
      ]
     },
     "execution_count": 12,
     "metadata": {},
     "output_type": "execute_result"
    }
   ],
   "source": [
    "#Add your code below\n",
    "storm_list_extra = storm_list.copy()\n",
    "storm_list_extra.append('Quentin')\n",
    "\n",
    "storm_list_extra\n"
   ]
  },
  {
   "cell_type": "markdown",
   "metadata": {},
   "source": [
    "**Q8.** On reflection, appending a new value to the list was not the best approach as the resulting list is no longer alphabetical. \n",
    "\n",
    "We could sort the list, but it would be better to have inserted `Quentin` in the 17th position (since 'Q' is the 17th letter in the alphabet).\n",
    "\n",
    "- Let's fix this mistake. First, create another copy of `storm_list` called `storm_list_redux`, you will find `.copy()` method useful\n",
    "\n",
    "- Next, use the `.insert()` method to insert **`Quentin`** into the 17th position\n",
    "- Recall that lists and other Python objects are typically indexed at `0`\n",
    "\n",
    "See below code syntax for some guidance:\n",
    "```python\n",
    "storm_list_redux = storm_list.copy()\n",
    "storm_list_redux.insert(index_position_value, a_string_value)\n",
    "```"
   ]
  },
  {
   "cell_type": "code",
   "execution_count": 14,
   "metadata": {
    "scrolled": false,
    "slideshow": {
     "slide_type": "skip"
    },
    "tags": [
     "solution"
    ]
   },
   "outputs": [
    {
     "data": {
      "text/plain": [
       "['Atiyah',\n",
       " 'Brendan',\n",
       " 'Clara',\n",
       " 'Dennis',\n",
       " 'Ellen',\n",
       " 'Francis',\n",
       " 'Gerda',\n",
       " 'Hugh',\n",
       " 'Iris',\n",
       " 'Jan',\n",
       " 'Kitty',\n",
       " 'Liam',\n",
       " 'Maura',\n",
       " 'Noah',\n",
       " 'Olivia',\n",
       " 'Piet',\n",
       " 'Quentin',\n",
       " 'Roisin',\n",
       " 'Samir',\n",
       " 'Tara',\n",
       " 'Vince',\n",
       " 'Willow']"
      ]
     },
     "execution_count": 14,
     "metadata": {},
     "output_type": "execute_result"
    }
   ],
   "source": [
    "#Add your code below\n",
    "#storm_list_redux = storm_list.copy()\n",
    "#storm_list_redux\n",
    "storm_list_redux = storm_list.copy()\n",
    "storm_list_redux.insert(16, 'Quentin')\n",
    "\n",
    "storm_list_redux\n"
   ]
  },
  {
   "cell_type": "markdown",
   "metadata": {},
   "source": [
    "**Q9.** What's the average of the values in the `wind_speeds`list? \n",
    "\n",
    "Assign your answer to `avg_max_wind`. You may find the `len()` and `sum()` functions useful, although feel free to not to if you have another way:\n",
    "\n",
    "See below code syntax for some guidance:\n",
    "```python\n",
    "sum(list_name)/len(list_name)\n",
    "```"
   ]
  },
  {
   "cell_type": "code",
   "execution_count": 14,
   "metadata": {
    "slideshow": {
     "slide_type": "skip"
    }
   },
   "outputs": [],
   "source": [
    "#Add your code below\n",
    "#avg_max_wind = ...\n",
    "avg_max_wind = sum(wind_speeds)/len(wind_speeds)\n",
    "avg_max_wind"
   ]
  },
  {
   "cell_type": "markdown",
   "metadata": {},
   "source": [
    "**Q10.** The `wind_speeds` list gives us data for all the storms in `storm_list` that have happened so far, starting from the name beginning with `A`.\n",
    "\n",
    "Write some code to assign to `next_storm` what the name of the next storm will be: \n",
    "\n",
    "Below snippet showcases the wind_speeds data for all storms have happened so far:\n",
    "```python\n",
    "('Atiyah', 65)\n",
    "('Brendan', 77)\n",
    "('Clara', 94)\n",
    "('Dennis', 102)\n",
    "('Ellen', 85)\n",
    "Next storm name?\n",
    "```\n",
    "\n",
    "See below code syntax for some guidance:\n",
    "```python\n",
    "storm_list[index_position_value]\n",
    "```"
   ]
  },
  {
   "cell_type": "code",
   "execution_count": 16,
   "metadata": {
    "slideshow": {
     "slide_type": "skip"
    }
   },
   "outputs": [
    {
     "data": {
      "text/plain": [
       "'Francis'"
      ]
     },
     "execution_count": 16,
     "metadata": {},
     "output_type": "execute_result"
    }
   ],
   "source": [
    "#Add your code below\n",
    "next_storm = storm_list[5]\n",
    "next_storm\n",
    "\n"
   ]
  },
  {
   "cell_type": "markdown",
   "metadata": {},
   "source": [
    "**Q11.** If `wind_speeds` contains values for the storms which have happened so far, write some code that uses list indexing to create a list of the storms in `storm_list` which have not yet happened.\n",
    "\n",
    "- Note that the `next_storm` identified above, should be the first element in the list.\n",
    "- Assign this list to the variable `remaining_storms`:\n",
    "\n",
    "See below code syntax for some guidance:\n",
    "```python\n",
    "storm_list[start_index_position_value:end_index_position_value]\n",
    "```"
   ]
  },
  {
   "cell_type": "code",
   "execution_count": 18,
   "metadata": {
    "slideshow": {
     "slide_type": "skip"
    }
   },
   "outputs": [
    {
     "data": {
      "text/plain": [
       "['Francis',\n",
       " 'Gerda',\n",
       " 'Hugh',\n",
       " 'Iris',\n",
       " 'Jan',\n",
       " 'Kitty',\n",
       " 'Liam',\n",
       " 'Maura',\n",
       " 'Noah',\n",
       " 'Olivia',\n",
       " 'Piet',\n",
       " 'Roisin',\n",
       " 'Samir',\n",
       " 'Tara',\n",
       " 'Vince',\n",
       " 'Willow']"
      ]
     },
     "execution_count": 18,
     "metadata": {},
     "output_type": "execute_result"
    }
   ],
   "source": [
    "#Add your code below\n",
    "remaining_storms = storm_list[5:]\n",
    "remaining_storms\n"
   ]
  },
  {
   "cell_type": "markdown",
   "metadata": {},
   "source": [
    "**Q12.** Which storm has had the highest wind speed? \n",
    "\n",
    "Assign your answer to `windiest_storm`. You may find the Python `max()` function useful, along with the `.index` list method:"
   ]
  },
  {
   "cell_type": "code",
   "execution_count": 19,
   "metadata": {
    "slideshow": {
     "slide_type": "skip"
    }
   },
   "outputs": [
    {
     "data": {
      "text/plain": [
       "102"
      ]
     },
     "execution_count": 19,
     "metadata": {},
     "output_type": "execute_result"
    }
   ],
   "source": [
    "#Add your code below\n",
    "#find the windiest speed\n",
    "windiest = max(wind_speeds)\n",
    "windiest\n"
   ]
  },
  {
   "cell_type": "code",
   "execution_count": 20,
   "metadata": {},
   "outputs": [
    {
     "data": {
      "text/plain": [
       "3"
      ]
     },
     "execution_count": 20,
     "metadata": {},
     "output_type": "execute_result"
    }
   ],
   "source": [
    "#the index for the speed = the index for the storm\n",
    "storm_index = wind_speeds.index(102)\n",
    "storm_index"
   ]
  },
  {
   "cell_type": "code",
   "execution_count": 21,
   "metadata": {},
   "outputs": [
    {
     "data": {
      "text/plain": [
       "'Dennis'"
      ]
     },
     "execution_count": 21,
     "metadata": {},
     "output_type": "execute_result"
    }
   ],
   "source": [
    "#find the storm name though the index number\n",
    "windiest_storm = storm_list[3]\n",
    "windiest_storm"
   ]
  },
  {
   "cell_type": "markdown",
   "metadata": {},
   "source": [
    "**Q13.** It is predicted that the final five names in `storm_list` will not be used this year. Create a list called `unused_names` which contains only these names and then reverse the order of the names (so that the entry beginning with `W` comes first):\n",
    "\n",
    "- Please note you have been provided with the code to extract final five names in `storm_list`\n",
    "\n",
    "- You will find `.reverse()` method useful while reversing the order of the names\n"
   ]
  },
  {
   "cell_type": "code",
   "execution_count": 22,
   "metadata": {
    "slideshow": {
     "slide_type": "skip"
    }
   },
   "outputs": [
    {
     "data": {
      "text/plain": [
       "['Roisin', 'Samir', 'Tara', 'Vince', 'Willow']"
      ]
     },
     "execution_count": 22,
     "metadata": {},
     "output_type": "execute_result"
    }
   ],
   "source": [
    "#Add your code below\n",
    "#unused_names = storm_list[-5:]\n",
    "unused_names = storm_list[-5:]\n",
    "unused_names\n",
    "#unused_names\n",
    "\n"
   ]
  },
  {
   "cell_type": "code",
   "execution_count": 23,
   "metadata": {},
   "outputs": [
    {
     "data": {
      "text/plain": [
       "['Willow', 'Vince', 'Tara', 'Samir', 'Roisin']"
      ]
     },
     "execution_count": 23,
     "metadata": {},
     "output_type": "execute_result"
    }
   ],
   "source": [
    "unused_names.reverse()\n",
    "unused_names"
   ]
  },
  {
   "cell_type": "markdown",
   "metadata": {},
   "source": [
    "**Q14.** Create a dictionary called `storm_dict` where the keys are from `storm_list` and the values are the corresponding values from `wind_speeds`. \n",
    "\n",
    "It should only contain key:value pairs for the storms which have already occurred, i.e. the number of key:value pairs should be equal to the number of elements in `wind_speeds`.\n",
    "\n",
    "There are various ways to do this and you're free to choose, but one way could involve using the Python `dict()` and `zip()` functions (see the [documentation](https://docs.python.org/3.3/library/functions.html)); can you work out from the documentation how this could be achieved?\n",
    "\n",
    "Please note you have been provided with the code for this question to carry out the necessary data manipulation work. Simply uncomment the lines of code and run the code cell to produce the desired results."
   ]
  },
  {
   "cell_type": "code",
   "execution_count": 24,
   "metadata": {
    "slideshow": {
     "slide_type": "skip"
    }
   },
   "outputs": [
    {
     "name": "stdout",
     "output_type": "stream",
     "text": [
      "{'Atiyah': 65, 'Brendan': 77, 'Clara': 94, 'Dennis': 102, 'Ellen': 85}\n"
     ]
    }
   ],
   "source": [
    "#Add your code below\n",
    "#storm_dict = dict(zip(storm_list, wind_speeds))\n",
    "storm_dict = dict(zip(storm_list, wind_speeds))\n",
    "storm_dict\n",
    "#print(storm_dict)\n",
    "print(storm_dict)\n"
   ]
  },
  {
   "cell_type": "markdown",
   "metadata": {},
   "source": [
    "**Q15.** The values associated with a dictionary key can be found by using the `dict['key']` syntax, but this returns an error if the key doesn't exist.\n",
    "\n",
    "An alternative is to use the dictionary `.get()` method. This provides a way of returning a default value if the given key doesn't exist in the dictionary.\n",
    "\n",
    "Use the `.get()` method to see if the dictionary `storm_dict` contains the `key` storm `Andrew`. If the dictionary does not contain `Andrew`, specify that `.get()` should return the string `No storm with that name`.\n",
    "\n",
    "Assign the output of `.get()` to a variable called `andrew_storm`.\n",
    "\n",
    "See below code syntax for some guidance:\n",
    "```python\n",
    "andrew_storm = storm_dict.get(key, string_to_return_if_key_not_found)\n",
    "```"
   ]
  },
  {
   "cell_type": "code",
   "execution_count": 25,
   "metadata": {
    "slideshow": {
     "slide_type": "skip"
    }
   },
   "outputs": [
    {
     "data": {
      "text/plain": [
       "'No storm with that name'"
      ]
     },
     "execution_count": 25,
     "metadata": {},
     "output_type": "execute_result"
    }
   ],
   "source": [
    "#Add your code below\n",
    "#andrew_storm = ...\n",
    "andrew_storm = storm_dict.get('Andrew', 'No storm with that name')\n",
    "andrew_storm\n"
   ]
  },
  {
   "cell_type": "markdown",
   "metadata": {},
   "source": [
    "**Q16.** Earlier we identified the next storm name and assigned it to `next_storm`; this storm has now happened and the maximum wind speed was 98 mph. Note that `next_storm` is a variable that we previously defined.\n",
    "\n",
    "- Create a new dictionary called `new_storm_dict` as a copy of our `storm_dict`, you will find `.copy()` method useful\n",
    "- Then add an additional key:value pair of `next_storm` : `98`\n",
    "\n",
    "See below code syntax for some guidance:\n",
    "```python\n",
    "new_storm_dict[key] = value\n",
    "```"
   ]
  },
  {
   "cell_type": "code",
   "execution_count": 26,
   "metadata": {
    "slideshow": {
     "slide_type": "skip"
    }
   },
   "outputs": [
    {
     "data": {
      "text/plain": [
       "{'Atiyah': 65,\n",
       " 'Brendan': 77,\n",
       " 'Clara': 94,\n",
       " 'Dennis': 102,\n",
       " 'Ellen': 85,\n",
       " 'Francis': 98}"
      ]
     },
     "execution_count": 26,
     "metadata": {},
     "output_type": "execute_result"
    }
   ],
   "source": [
    "#Add your code below\n",
    "#new_storm_dict = storm_dict.copy()\n",
    "new_storm_dict = storm_dict.copy()\n",
    "new_storm_dict\n",
    "#new_storm_dict = ...\n",
    "new_storm_dict[next_storm] = 98\n",
    "new_storm_dict\n",
    "\n"
   ]
  },
  {
   "cell_type": "markdown",
   "metadata": {},
   "source": [
    "**Q17.** We want to find the maximum wind speed across all the storms of `new_storm_dict` dictionary.\n",
    "\n",
    "- Use the `.values()` method to extract all the wind speeds in `new_storm_dict` and convert them to a `list` with the `list()` function. See below code syntax for some guidance:\n",
    "```python\n",
    "list(dictionary_name.values())\n",
    "```\n",
    "\n",
    "- Next, use the `max()` function to find the maximum speed from the `list` and assign it to a variable called `max_speed`."
   ]
  },
  {
   "cell_type": "code",
   "execution_count": 27,
   "metadata": {
    "slideshow": {
     "slide_type": "skip"
    }
   },
   "outputs": [
    {
     "data": {
      "text/plain": [
       "102"
      ]
     },
     "execution_count": 27,
     "metadata": {},
     "output_type": "execute_result"
    }
   ],
   "source": [
    "#Add your code below\n",
    "#max_speed = ...\n",
    "max_speed = max(list(new_storm_dict.values()))\n",
    "max_speed\n"
   ]
  },
  {
   "cell_type": "markdown",
   "metadata": {},
   "source": [
    "**Q18.** Finally, we are told that the original information we were given was wrong and the speed of storm **Brendan** should have been 72 rather than 77. \n",
    "\n",
    "- Create `updated_dict` as a copy of `new_storm_dict`, you will find `.copy()` method useful\n",
    "- Then update the `key` storm **Brendan** to be `value` 72\n",
    "\n",
    "See below code syntax for some guidance:\n",
    "```python\n",
    "updated_dict[key] = value\n",
    "```"
   ]
  },
  {
   "cell_type": "code",
   "execution_count": 28,
   "metadata": {},
   "outputs": [
    {
     "data": {
      "text/plain": [
       "{'Atiyah': 65,\n",
       " 'Brendan': 72,\n",
       " 'Clara': 94,\n",
       " 'Dennis': 102,\n",
       " 'Ellen': 85,\n",
       " 'Francis': 98}"
      ]
     },
     "execution_count": 28,
     "metadata": {},
     "output_type": "execute_result"
    }
   ],
   "source": [
    "#Add your code below\n",
    "#updated_dict = new_storm_dict.copy()\n",
    "updated_dict = new_storm_dict.copy()\n",
    "updated_dict['Brendan'] = 72\n",
    "updated_dict\n",
    "\n"
   ]
  },
  {
   "cell_type": "markdown",
   "metadata": {},
   "source": [
    "## Further practice\n",
    "\n",
    "If you have time, have a go at repeating this exercise with some different data and using different techniques. \n",
    "\n",
    "Make a copy of this notebook and copy-paste the new data from below in place of the original data in the second cell (it has been commented out below to prevent any accidental overwriting of your variables in this notebook).\n",
    "\n",
    "First of all, see if your original code runs with the new data without throwing any errors; all of your code cells should produce new values for the requested variables. If you get errors, come back to the original notebook and make changes so that your code is more robust and works with both sets of values.\n",
    "\n",
    "Then, for any questions where your working has involved more than one line of code, see if you can find an alternative, more succinct approach to the problem."
   ]
  },
  {
   "cell_type": "code",
   "execution_count": null,
   "metadata": {},
   "outputs": [],
   "source": [
    "'''\n",
    "storm_names = 'Alberto, Beryl, Chris, Debby, Ernesto, Florence, Gordon, Helene, Isaac, Joyce, \\\n",
    "Kirk, Leslie, Michael, Nadine, Oscar, Patty, Rafael, Sandy, Tony, Valerie, William'\n",
    "\n",
    "letters = ['m', 'n', 'b', 'v', 'c', 'x', 'z', 'a', 's', 'd', 'f', 'g', 'h', 'j', 'k', 'l', \\\n",
    "'p', 'o', 'i', 'u', 'y', 't', 'r', 'e', 'w', 'q']\n",
    "\n",
    "wind_speeds = [99, 78, 85, 107, 114, 94, 89, 121, 108]\n",
    "'''"
   ]
  }
 ],
 "metadata": {
  "kernelspec": {
   "display_name": "Python 3 (ipykernel)",
   "language": "python",
   "name": "python3"
  },
  "language_info": {
   "codemirror_mode": {
    "name": "ipython",
    "version": 3
   },
   "file_extension": ".py",
   "mimetype": "text/x-python",
   "name": "python",
   "nbconvert_exporter": "python",
   "pygments_lexer": "ipython3",
   "version": "3.7.17"
  }
 },
 "nbformat": 4,
 "nbformat_minor": 2
}
