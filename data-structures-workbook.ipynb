{
 "cells": [
  {
   "cell_type": "markdown",
   "metadata": {
    "slideshow": {
     "slide_type": "slide"
    }
   },
   "source": [
    "**Following guidelines set expectations for participant behaviour during workshop activities. They also ensure that the class environment is welcoming, inclusive, and respectful.**\n",
    "- Where a discussion is taking place, allow everyone a chance to speak\n",
    "- Listen respectfully, without interrupting and with an open mind to understanding others’ views\n",
    "- Be professional and productive, and always share your ideas, your opinion matters, we all can learn something from each other\n",
    "- Personal information that comes up in the conversation should be kept confidential\n",
    "- Avoid inflammatory language\n",
    "- Avoid assumptions about any member of the class or generalisations about social groups"
   ]
  },
  {
   "cell_type": "markdown",
   "metadata": {
    "slideshow": {
     "slide_type": "slide"
    }
   },
   "source": [
    "**You have now joined a group of fellow analysts in a workshop:**\n",
    "#### Outcomes:\n",
    "\n",
    "- To complete a group activity to identify how Python Data Structures could be useful for your job role\n",
    "- To be able to answer the questions to test your knowledge of Python Data Structures\n",
    "\n",
    "\n",
    "#### Note:\n",
    "- We understand learners will progress at their own speed\n",
    "- Tutors will be on hand to answer questions"
   ]
  },
  {
   "cell_type": "markdown",
   "metadata": {
    "slideshow": {
     "slide_type": "slide"
    }
   },
   "source": [
    "## Group activity\n",
    "\n",
    "- Identify how **Python Data Structures** could be useful for data analytics within your job role? And share your thoughts."
   ]
  },
  {
   "cell_type": "code",
   "execution_count": null,
   "metadata": {
    "slideshow": {
     "slide_type": "slide"
    }
   },
   "outputs": [],
   "source": [
    "#add your notes below\n",
    "#it is possible to access a database, update, extract, remove without opening it.\n",
    "#However you need to know how the data was saved\n",
    "\n"
   ]
  },
  {
   "cell_type": "markdown",
   "metadata": {
    "slideshow": {
     "slide_type": "slide"
    }
   },
   "source": [
    "## Python Data structures\n",
    "- Complete the following questions\n",
    "- Any code you write in the workbook should be re-usable where possible, i.e. it should work if the values assigned to any variables are modified."
   ]
  },
  {
   "cell_type": "markdown",
   "metadata": {
    "slideshow": {
     "slide_type": "slide"
    }
   },
   "source": [
    "## ☑️ List indexing"
   ]
  },
  {
   "cell_type": "markdown",
   "metadata": {
    "slideshow": {
     "slide_type": "slide"
    }
   },
   "source": [
    "Remember that we can have:\n",
    "- any number of items in a list, separated by commas\n",
    "- different data types and structures within our list\n",
    "\n",
    "... and that the syntax for accessing elements is:\n",
    "\n",
    "- `[position]`\n",
    "- `[start:stop]`\n",
    "- `[start:stop:step]`"
   ]
  },
  {
   "cell_type": "markdown",
   "metadata": {
    "slideshow": {
     "slide_type": "slide"
    }
   },
   "source": [
    "Below are some well-known names of UK Prime Ministers (1940-2022), make sure you run the following code cell to create the list `pm` before you attempt any of the following questions"
   ]
  },
  {
   "cell_type": "code",
   "execution_count": 6,
   "metadata": {
    "slideshow": {
     "slide_type": "slide"
    }
   },
   "outputs": [],
   "source": [
    "pm = ['Winston Churchill', 'Margaret Thatcher', 'John Major', 'Tony Blair', 'David Cameron', 'Boris Johnson']\n",
    "pm"
   ]
  },
  {
   "cell_type": "markdown",
   "metadata": {
    "slideshow": {
     "slide_type": "slide"
    }
   },
   "source": [
    "**Q1)** Create a variable called `members` and assign the number of values in the list `pm` to it (i.e. the length)\n",
    "- Hint: You can make use of `len()` function"
   ]
  },
  {
   "cell_type": "code",
   "execution_count": 8,
   "metadata": {
    "slideshow": {
     "slide_type": "slide"
    }
   },
   "outputs": [],
   "source": [
    "#add your code below\n",
    "#members =\n",
    "\n",
    "members = len(pm)\n",
    "members"
   ]
  },
  {
   "cell_type": "markdown",
   "metadata": {
    "slideshow": {
     "slide_type": "slide"
    }
   },
   "source": [
    "**Q2)** Create a variable called `last_pm` and assign the `last prime minister` from the list `pm` to it\n",
    "- Remember, python lists are zero-indexed\n",
    "- Hint: You will need to use the indexing notation e.g. `list_name[index]`"
   ]
  },
  {
   "cell_type": "code",
   "execution_count": 9,
   "metadata": {
    "slideshow": {
     "slide_type": "slide"
    }
   },
   "outputs": [],
   "source": [
    "#add your code below\n",
    "#last_pm =\n",
    "\n",
    "last_pm = pm[5]\n",
    "last_pm"
   ]
  },
  {
   "cell_type": "markdown",
   "metadata": {
    "slideshow": {
     "slide_type": "slide"
    }
   },
   "source": [
    "## ☑️ String indexing"
   ]
  },
  {
   "cell_type": "markdown",
   "metadata": {
    "slideshow": {
     "slide_type": "slide"
    }
   },
   "source": [
    "You have been given the below code that will find the index position of the first space character (`' '`) in `last_pm`. This is then saved into the variable `space_index`\n",
    "\n",
    "- Note space character (`' '`) divides the prime minister’s name into `first name` and the `last name`"
   ]
  },
  {
   "cell_type": "code",
   "execution_count": 10,
   "metadata": {
    "slideshow": {
     "slide_type": "slide"
    }
   },
   "outputs": [],
   "source": [
    "space_index = last_pm.index(' ')\n",
    "space_index"
   ]
  },
  {
   "cell_type": "markdown",
   "metadata": {
    "slideshow": {
     "slide_type": "slide"
    }
   },
   "source": [
    "**Q3)** Create a variable called `fn_last_pm` and assign the `first name` of the `last_pm` to it\n",
    "\n",
    "- Hint: Use string indexing to extract characters up to, but not including the first space in `last_pm`, use `space_index` variable for this\n"
   ]
  },
  {
   "cell_type": "code",
   "execution_count": 38,
   "metadata": {
    "slideshow": {
     "slide_type": "slide"
    }
   },
   "outputs": [],
   "source": [
    "#add your code below\n",
    "#fn_last_pm =\n",
    "\n",
    "fn = list(last_pm)\n",
    "fn\n",
    "fn_str = fn[:space_index]\n",
    "fn_last_pm = map(str, fn_str)\n",
    "result = ''.join(fn_str)\n",
    "print(result)"
   ]
  },
  {
   "cell_type": "markdown",
   "metadata": {
    "slideshow": {
     "slide_type": "slide"
    }
   },
   "source": [
    "## ☑️ List methods"
   ]
  },
  {
   "cell_type": "markdown",
   "metadata": {
    "slideshow": {
     "slide_type": "slide"
    }
   },
   "source": [
    "Below is a list containing information related to some movie ratings. Make sure you run the following code cell to create the list `ratings` before you attempt any of the following questions"
   ]
  },
  {
   "cell_type": "code",
   "execution_count": 11,
   "metadata": {
    "slideshow": {
     "slide_type": "slide"
    }
   },
   "outputs": [],
   "source": [
    "ratings = [7, 4, 8, 2, 9, 4, 3, 6, 8, 6, 7, 9, 2, 0, 3, 4, 1, 0, 2, 5, 8, 2]\n",
    "ratings"
   ]
  },
  {
   "cell_type": "markdown",
   "metadata": {
    "slideshow": {
     "slide_type": "slide"
    }
   },
   "source": [
    "**Q4)** Use `.sort()` method with `reverse=True` parameter to order the elements in `ratings` with the highest numbers coming first:\n",
    "- Further information  on list methods can be found in the [here](https://docs.python.org/2/tutorial/datastructures.html)\n",
    "\n"
   ]
  },
  {
   "cell_type": "code",
   "execution_count": 12,
   "metadata": {
    "slideshow": {
     "slide_type": "slide"
    }
   },
   "outputs": [],
   "source": [
    "#add your code below\n",
    "\n",
    "sorted(ratings,reverse=True)"
   ]
  },
  {
   "cell_type": "markdown",
   "metadata": {
    "slideshow": {
     "slide_type": "slide"
    }
   },
   "source": [
    "**Q5)** Use `.count()` list method to calculate the number of entries that equal `0` in list `ratings` and assign this result to a variable called  `zero_ratings`:\n",
    "\n",
    "- Hint: `list_name.count(8)` finds the number of entries that equal `8`"
   ]
  },
  {
   "cell_type": "code",
   "execution_count": 14,
   "metadata": {
    "slideshow": {
     "slide_type": "slide"
    }
   },
   "outputs": [],
   "source": [
    "#add your code below\n",
    "#zero_ratings =\n",
    "\n",
    "zero_ratings = ratings.count(0)\n",
    "zero_ratings\n"
   ]
  },
  {
   "cell_type": "markdown",
   "metadata": {
    "slideshow": {
     "slide_type": "slide"
    }
   },
   "source": [
    "## ☑️ Built-in functions"
   ]
  },
  {
   "cell_type": "markdown",
   "metadata": {
    "slideshow": {
     "slide_type": "slide"
    }
   },
   "source": [
    "You have been given the below code that will convert the list `ratings` into a `set()`, and assign it to a variable called `ratings_unique`:"
   ]
  },
  {
   "cell_type": "code",
   "execution_count": 15,
   "metadata": {
    "slideshow": {
     "slide_type": "slide"
    }
   },
   "outputs": [],
   "source": [
    "ratings_unique = set(ratings)\n",
    "ratings_unique"
   ]
  },
  {
   "cell_type": "markdown",
   "metadata": {
    "slideshow": {
     "slide_type": "slide"
    }
   },
   "source": [
    "**Q6)** Use the built-in function `list()` to convert `ratings_unique` into back into a list:"
   ]
  },
  {
   "cell_type": "code",
   "execution_count": 16,
   "metadata": {
    "slideshow": {
     "slide_type": "slide"
    }
   },
   "outputs": [],
   "source": [
    "#add your code below\n",
    "\n",
    "list(set(ratings_unique))"
   ]
  },
  {
   "cell_type": "markdown",
   "metadata": {
    "slideshow": {
     "slide_type": "slide"
    }
   },
   "source": [
    "## ☑️ Dictionaries"
   ]
  },
  {
   "cell_type": "markdown",
   "metadata": {
    "slideshow": {
     "slide_type": "slide"
    }
   },
   "source": [
    "Make sure you run the following code cell to create the dictionary `info` before attempting any of the following questions:"
   ]
  },
  {
   "cell_type": "code",
   "execution_count": 17,
   "metadata": {
    "slideshow": {
     "slide_type": "slide"
    }
   },
   "outputs": [],
   "source": [
    "info = {  'name': 'Boris Johnson',\n",
    "          'country': 'United Kingdom',\n",
    "          'partner': {'name': 'Carrie Symonds', 'relationship': 'Engaged'},\n",
    "          'age': 58,\n",
    "          'job': {'title': 'Prime Minister', 'years': 3}\n",
    "        }\n",
    "\n",
    "info"
   ]
  },
  {
   "cell_type": "markdown",
   "metadata": {
    "slideshow": {
     "slide_type": "slide"
    }
   },
   "source": [
    "You have been given the below code that extracts information under keys `['partner'] and ['name']` from `info` dictionary to output the name of the partner. Using this technique, answer the following question."
   ]
  },
  {
   "cell_type": "code",
   "execution_count": 18,
   "metadata": {
    "slideshow": {
     "slide_type": "slide"
    }
   },
   "outputs": [],
   "source": [
    "info['partner']['name']"
   ]
  },
  {
   "cell_type": "markdown",
   "metadata": {
    "slideshow": {
     "slide_type": "slide"
    }
   },
   "source": [
    "**Q7)** Change the value for `relationship` key in `partner` to `'Married'`:"
   ]
  },
  {
   "cell_type": "code",
   "execution_count": 19,
   "metadata": {
    "slideshow": {
     "slide_type": "slide"
    }
   },
   "outputs": [],
   "source": [
    "#add your code below\n",
    "\n",
    "info['partner']['relationship'] = 'Married'\n",
    "info"
   ]
  }
 ],
 "metadata": {
  "kernelspec": {
   "display_name": "Python 3 (ipykernel)",
   "language": "python",
   "name": "python3"
  },
  "language_info": {
   "codemirror_mode": {
    "name": "ipython",
    "version": 3
   },
   "file_extension": ".py",
   "mimetype": "text/x-python",
   "name": "python",
   "nbconvert_exporter": "python",
   "pygments_lexer": "ipython3",
   "version": "3.7.17"
  }
 },
 "nbformat": 4,
 "nbformat_minor": 4
}
