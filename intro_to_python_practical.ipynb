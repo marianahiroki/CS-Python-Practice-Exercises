{
 "cells": [
  {
   "cell_type": "markdown",
   "metadata": {
    "id": "icZSsk7Af4Sr"
   },
   "source": [
    "# Skills practice"
   ]
  },
  {
   "cell_type": "markdown",
   "metadata": {},
   "source": [
    "KATE expects your code to define variables with specific names that correspond to certain things we are interested in.\n",
    "\n",
    "KATE will run your notebook from top to bottom and check the latest value of those variables, so make sure you don't overwrite them.\n",
    "\n",
    "* Remember to uncomment the line assigning the variable to your answer and don't change the variable or function names.\n",
    "* Use copies of the original or previous DataFrames to make sure you do not overwrite them by mistake.\n",
    "\n",
    "You will find instructions below about how to define each variable.\n",
    "\n",
    "Once you're happy with your code, upload your notebook to KATE to check your feedback."
   ]
  },
  {
   "cell_type": "markdown",
   "metadata": {
    "id": "YiqA5Slrf4Su"
   },
   "source": [
    "## Practice Using Variables and Types"
   ]
  },
  {
   "cell_type": "markdown",
   "metadata": {},
   "source": [
    "The questions below should help to recap and cement the knowledge gained of the fundamentals of Python. Give these questions your best attempt and try to get through as many of tem as you can. Good luck!"
   ]
  },
  {
   "cell_type": "markdown",
   "metadata": {},
   "source": [
    "_Hint_: Remember the 'help' function is your friend - run the following cell"
   ]
  },
  {
   "cell_type": "code",
   "execution_count": 1,
   "metadata": {},
   "outputs": [
    {
     "name": "stdout",
     "output_type": "stream",
     "text": [
      "Help on built-in function print in module builtins:\n",
      "\n",
      "print(...)\n",
      "    print(value, ..., sep=' ', end='\\n', file=sys.stdout, flush=False)\n",
      "    \n",
      "    Prints the values to a stream, or to sys.stdout by default.\n",
      "    Optional keyword arguments:\n",
      "    file:  a file-like object (stream); defaults to the current sys.stdout.\n",
      "    sep:   string inserted between values, default a space.\n",
      "    end:   string appended after the last value, default a newline.\n",
      "    flush: whether to forcibly flush the stream.\n",
      "\n"
     ]
    }
   ],
   "source": [
    "help('print')"
   ]
  },
  {
   "cell_type": "markdown",
   "metadata": {
    "id": "hPKN5HH-f4Sv"
   },
   "source": [
    "**1)** Write an expression which assigns to variable `data_type_a` the type of `a`"
   ]
  },
  {
   "cell_type": "code",
   "execution_count": 2,
   "metadata": {
    "id": "9Uo5UNz3f4Sv"
   },
   "outputs": [],
   "source": [
    "a = 25"
   ]
  },
  {
   "cell_type": "code",
   "execution_count": 3,
   "metadata": {
    "id": "wt9x7GZHf4Sw"
   },
   "outputs": [
    {
     "data": {
      "text/plain": [
       "int"
      ]
     },
     "execution_count": 3,
     "metadata": {},
     "output_type": "execute_result"
    }
   ],
   "source": [
    "# Your code here...\n",
    "data_type_a = type(a)\n",
    "data_type_a\n"
   ]
  },
  {
   "cell_type": "markdown",
   "metadata": {
    "id": "Tbt38Aeaf4Sx"
   },
   "source": [
    "**2)** Write an expression which assigns to variable `data_type_b` the type of `b`"
   ]
  },
  {
   "cell_type": "code",
   "execution_count": 4,
   "metadata": {
    "id": "IZDbhs4Qf4Sx"
   },
   "outputs": [],
   "source": [
    "b = 20.0"
   ]
  },
  {
   "cell_type": "code",
   "execution_count": 5,
   "metadata": {
    "id": "Epr5BUUuf4Sy"
   },
   "outputs": [
    {
     "data": {
      "text/plain": [
       "float"
      ]
     },
     "execution_count": 5,
     "metadata": {},
     "output_type": "execute_result"
    }
   ],
   "source": [
    "# Your code here...\n",
    "data_type_b = type(b)\n",
    "data_type_b"
   ]
  },
  {
   "cell_type": "markdown",
   "metadata": {
    "id": "s4snR87Xf4S0"
   },
   "source": [
    "**3)** Write an expression which assigns to variable `data_type_c` the type of `c`"
   ]
  },
  {
   "cell_type": "code",
   "execution_count": 6,
   "metadata": {
    "id": "NojHoaxAf4S1"
   },
   "outputs": [],
   "source": [
    "c = 'Python is named after Monty Python'"
   ]
  },
  {
   "cell_type": "code",
   "execution_count": 7,
   "metadata": {
    "id": "ZU5XMnQyf4S1"
   },
   "outputs": [
    {
     "data": {
      "text/plain": [
       "str"
      ]
     },
     "execution_count": 7,
     "metadata": {},
     "output_type": "execute_result"
    }
   ],
   "source": [
    "# Your code here...\n",
    "data_type_c = type(c)\n",
    "data_type_c"
   ]
  },
  {
   "cell_type": "markdown",
   "metadata": {
    "id": "8g-vivWOf4S2"
   },
   "source": [
    "**4)** Create a variable `d1_d2_equality` which is `True` if `d1` and `d2` are equal and `False` otherwise"
   ]
  },
  {
   "cell_type": "code",
   "execution_count": 8,
   "metadata": {
    "id": "bg8SM_hLf4S3"
   },
   "outputs": [],
   "source": [
    "d1 = 20\n",
    "d2 = '20'"
   ]
  },
  {
   "cell_type": "code",
   "execution_count": 13,
   "metadata": {
    "id": "zoEgdxIif4S3"
   },
   "outputs": [
    {
     "name": "stdout",
     "output_type": "stream",
     "text": [
      "False\n"
     ]
    }
   ],
   "source": [
    "# Your code here...\n",
    "d1_d2_equality = d1 == d2\n",
    "if d1_d2_equality:\n",
    "    print('True')\n",
    "else:\n",
    "    print('False')"
   ]
  },
  {
   "cell_type": "markdown",
   "metadata": {
    "id": "5Y8C5gcHf4S3"
   },
   "source": [
    "## Practice Using Operators"
   ]
  },
  {
   "cell_type": "markdown",
   "metadata": {
    "id": "6_p20Xm0f4S3"
   },
   "source": [
    "**5)**  Write an expression which assigns to variable `sum_xy` the sum of `x` and `y`"
   ]
  },
  {
   "cell_type": "code",
   "execution_count": 22,
   "metadata": {
    "id": "CheRvkf4f4S4"
   },
   "outputs": [],
   "source": [
    "x = 3\n",
    "y = 10"
   ]
  },
  {
   "cell_type": "code",
   "execution_count": 24,
   "metadata": {
    "id": "kor6BJ1if4S4"
   },
   "outputs": [],
   "source": [
    "# Your code here...\n",
    "sum_xy = x + y\n",
    "sum_xy"
   ]
  },
  {
   "cell_type": "markdown",
   "metadata": {
    "id": "E8Po-oPyf4S4"
   },
   "source": [
    "**6)**  Write an expression which multiples two numbers, `3` and `4`, and assigns the result to a variable `product`"
   ]
  },
  {
   "cell_type": "code",
   "execution_count": 26,
   "metadata": {
    "id": "3oIsGKW9f4S4"
   },
   "outputs": [],
   "source": [
    "# Your code here...\n",
    "product = 3*4\n",
    "product"
   ]
  },
  {
   "cell_type": "markdown",
   "metadata": {
    "id": "lXVqKVnpf4S5"
   },
   "source": [
    "**7)**  Write an expression which multiples two numbers, `3` and `4.0` (note the decimal) and then finds the type of the result. Assign the type of the result to a variable `product_type`."
   ]
  },
  {
   "cell_type": "code",
   "execution_count": 15,
   "metadata": {
    "id": "j93WLNC7f4S5"
   },
   "outputs": [
    {
     "data": {
      "text/plain": [
       "float"
      ]
     },
     "execution_count": 15,
     "metadata": {},
     "output_type": "execute_result"
    }
   ],
   "source": [
    "# Your code here...\n",
    "product = 3 * 4.0\n",
    "product_type = type(product)\n",
    "product_type"
   ]
  },
  {
   "cell_type": "markdown",
   "metadata": {
    "id": "MaHSBiSvf4S5"
   },
   "source": [
    "**8)**  Write an expression which divides the number `10` by `2` and assign the result to variable `div_1`"
   ]
  },
  {
   "cell_type": "code",
   "execution_count": 28,
   "metadata": {
    "id": "h0ADkwHbf4S5"
   },
   "outputs": [],
   "source": [
    "# Your code here...\n",
    "div_1 = 10/2\n",
    "div_1"
   ]
  },
  {
   "cell_type": "markdown",
   "metadata": {
    "id": "kDlVX4P8f4S5"
   },
   "source": [
    "**9)** Write an expression which finds the result of dividing `7` by `3` and rounds it to the nearest whole number. Assign the result to variable `div_2` "
   ]
  },
  {
   "cell_type": "code",
   "execution_count": 72,
   "metadata": {
    "id": "jieWLjQWf4S5"
   },
   "outputs": [],
   "source": [
    "# Your code here...\n",
    "div_2 = round(7 / 3)\n",
    "div_2"
   ]
  },
  {
   "cell_type": "markdown",
   "metadata": {
    "id": "GTPWBrkof4S6"
   },
   "source": [
    "**10)**  Write an expression which finds the remainder of the result of dividing `7` by `3` and assign the result to variable `div_3`"
   ]
  },
  {
   "cell_type": "code",
   "execution_count": 30,
   "metadata": {
    "id": "tAc7rBPtf4S6"
   },
   "outputs": [],
   "source": [
    "# Your code here...\n",
    "div_3 = 7 % 3\n",
    "div_3"
   ]
  },
  {
   "cell_type": "markdown",
   "metadata": {
    "id": "De6xnkAEf4S6"
   },
   "source": [
    "**11)** You are given the number of seconds it takes Bob to run 1 mile, `num_secs`. Write an expression which finds the complete number of minutes taken and assign the result to variable `num_mins`."
   ]
  },
  {
   "cell_type": "code",
   "execution_count": 31,
   "metadata": {
    "id": "1TvCCoi_f4S6"
   },
   "outputs": [],
   "source": [
    "num_secs = 345"
   ]
  },
  {
   "cell_type": "code",
   "execution_count": 33,
   "metadata": {
    "id": "_CMcUNlEf4S6"
   },
   "outputs": [],
   "source": [
    "# Your code here...\n",
    "num_mins =  int(num_secs / 60)\n",
    "num_mins "
   ]
  },
  {
   "cell_type": "markdown",
   "metadata": {
    "id": "5T5_fgoSf4S6"
   },
   "source": [
    "**12)** Alice runs 1 mile in 5 minutes and 15 seconds. Write an expression which finds the number of seconds that it takes her and assign the result to `num_secs_alice`"
   ]
  },
  {
   "cell_type": "code",
   "execution_count": 89,
   "metadata": {
    "id": "H-uzrjoqf4S7"
   },
   "outputs": [],
   "source": [
    "mins = 5\n",
    "secs = 15"
   ]
  },
  {
   "cell_type": "code",
   "execution_count": 91,
   "metadata": {
    "id": "EdWgbqfpf4S7"
   },
   "outputs": [],
   "source": [
    "# Your code here...\n",
    "num_secs_alice = mins * 60 + secs\n",
    "num_secs_alice"
   ]
  },
  {
   "cell_type": "markdown",
   "metadata": {
    "id": "UlKKxS0Yf4S7"
   },
   "source": [
    "## Practice Using Lists"
   ]
  },
  {
   "cell_type": "markdown",
   "metadata": {
    "id": "AIzpmMU_f4S7"
   },
   "source": [
    "The list below `capitals` gives some European capital."
   ]
  },
  {
   "cell_type": "code",
   "execution_count": 18,
   "metadata": {
    "id": "UwFqlrdZf4S7"
   },
   "outputs": [],
   "source": [
    "capitals = ['Paris', 'London', 'New York', 'Berlin']"
   ]
  },
  {
   "cell_type": "markdown",
   "metadata": {
    "id": "pwnaAxo8f4S7"
   },
   "source": [
    "**13)** Write an expression which finds the UK capital using list indexing and assigns it to the variable uk_capital"
   ]
  },
  {
   "cell_type": "code",
   "execution_count": 19,
   "metadata": {
    "id": "rjgMoc3Qf4S7"
   },
   "outputs": [
    {
     "data": {
      "text/plain": [
       "'London'"
      ]
     },
     "execution_count": 19,
     "metadata": {},
     "output_type": "execute_result"
    }
   ],
   "source": [
    "# Your code here...\n",
    "uk_capital = capitals [1]\n",
    "uk_capital"
   ]
  },
  {
   "cell_type": "markdown",
   "metadata": {
    "id": "eGgtGhN4f4S7"
   },
   "source": [
    "**14)** Write an expression which assigns the values ['London', 'New York']  to the variable financial_capitals."
   ]
  },
  {
   "cell_type": "code",
   "execution_count": 41,
   "metadata": {
    "id": "hMiyHmVSf4S7"
   },
   "outputs": [
    {
     "data": {
      "text/plain": [
       "['London', 'New York']"
      ]
     },
     "execution_count": 41,
     "metadata": {},
     "output_type": "execute_result"
    }
   ],
   "source": [
    "# Your code here...\n",
    "financial_capitals = ['London', 'New York']\n",
    "financial_capitals"
   ]
  },
  {
   "cell_type": "markdown",
   "metadata": {
    "id": "GTn76XlFf4S8"
   },
   "source": [
    "**15)**  Write an expression that uses indexing and the string`uk_city` to assign the letter `las` to the variable `substring1`"
   ]
  },
  {
   "cell_type": "code",
   "execution_count": 21,
   "metadata": {
    "id": "jACAkaJJf4S8"
   },
   "outputs": [],
   "source": [
    "uk_city = 'Glasgow'"
   ]
  },
  {
   "cell_type": "code",
   "execution_count": 22,
   "metadata": {
    "id": "lFAAI6a5f4S8"
   },
   "outputs": [
    {
     "data": {
      "text/plain": [
       "'las'"
      ]
     },
     "execution_count": 22,
     "metadata": {},
     "output_type": "execute_result"
    }
   ],
   "source": [
    "# Your code here...substring1=\n",
    "substring1 = uk_city[1:4]\n",
    "substring1"
   ]
  },
  {
   "cell_type": "markdown",
   "metadata": {
    "id": "D9pPYg4Uf4S8"
   },
   "source": [
    "**16)** Write an expression that uses indexing and the string`uk_city` to assign the letter `osl` to the variable `substring2`"
   ]
  },
  {
   "cell_type": "code",
   "execution_count": 23,
   "metadata": {
    "id": "bNGv763lf4S8"
   },
   "outputs": [
    {
     "data": {
      "text/plain": [
       "'Glasgow'"
      ]
     },
     "execution_count": 23,
     "metadata": {},
     "output_type": "execute_result"
    }
   ],
   "source": [
    "# transform Glasgow into a list\n",
    "uk_list = str(uk_city)\n",
    "uk_list"
   ]
  },
  {
   "cell_type": "code",
   "execution_count": 24,
   "metadata": {},
   "outputs": [
    {
     "data": {
      "text/plain": [
       "'osl'"
      ]
     },
     "execution_count": 24,
     "metadata": {},
     "output_type": "execute_result"
    }
   ],
   "source": [
    "#Finding the letters wanted\n",
    "substring2 = uk_list[-2]+uk_list[-4]+uk_list[-6]\n",
    "substring2"
   ]
  },
  {
   "cell_type": "markdown",
   "metadata": {
    "id": "FvfjNHOHf4S8"
   },
   "source": [
    "**17)**  Write an expression that reverses the value assigned to `city_uk`, and calls the result `reversed_city`"
   ]
  },
  {
   "cell_type": "code",
   "execution_count": 25,
   "metadata": {
    "id": "NA4QezIGf4S8"
   },
   "outputs": [
    {
     "data": {
      "text/plain": [
       "'wogsalG'"
      ]
     },
     "execution_count": 25,
     "metadata": {},
     "output_type": "execute_result"
    }
   ],
   "source": [
    "# Your code here...\n",
    "reversed_city = \"\".join(reversed(uk_city))\n",
    "reversed_city"
   ]
  },
  {
   "cell_type": "markdown",
   "metadata": {
    "id": "DBhOMhOff4S9"
   },
   "source": [
    "**18)** The `+` operator can be used on strings. This wasn't covered in the lesson but we can easily test to see what happens.\n",
    "Two string variables are defined below. Write an expression which adds the two strings together using `+` and assign the result to a variable named `fruit`."
   ]
  },
  {
   "cell_type": "code",
   "execution_count": 26,
   "metadata": {
    "id": "pA0ao5e6f4S9"
   },
   "outputs": [],
   "source": [
    "str_1 = 'app'\n",
    "str_2 = 'le'"
   ]
  },
  {
   "cell_type": "code",
   "execution_count": 27,
   "metadata": {
    "id": "iGITtLZ-f4S9"
   },
   "outputs": [
    {
     "data": {
      "text/plain": [
       "'apple'"
      ]
     },
     "execution_count": 27,
     "metadata": {},
     "output_type": "execute_result"
    }
   ],
   "source": [
    "# Your code here...\n",
    "fruit = str_1 + str_2\n",
    "fruit"
   ]
  },
  {
   "cell_type": "markdown",
   "metadata": {
    "id": "WmRVS7WPf4S9"
   },
   "source": [
    "**19)** Add the strings `cap_1` and `cap_2` and assign them to the variable `cap_us`"
   ]
  },
  {
   "cell_type": "code",
   "execution_count": 28,
   "metadata": {
    "id": "S6yHxgYnf4S9"
   },
   "outputs": [],
   "source": [
    "cap_1 = 'New'\n",
    "cap_2 = 'York'"
   ]
  },
  {
   "cell_type": "code",
   "execution_count": 40,
   "metadata": {
    "id": "dZJhV0Rqf4S9"
   },
   "outputs": [
    {
     "data": {
      "text/plain": [
       "'NewYork'"
      ]
     },
     "execution_count": 40,
     "metadata": {},
     "output_type": "execute_result"
    }
   ],
   "source": [
    "# Your code here...\n",
    "cap_us = cap_1 + cap_2\n",
    "cap_us"
   ]
  },
  {
   "cell_type": "markdown",
   "metadata": {
    "id": "FeWv6XkNf4S9"
   },
   "source": [
    "**20)** You may have noticed that there is no space in the middle of 'NewYork' - we didn't give it one!  Amend this so that the result is 'New York' with a sing space. Assign the resulting  to variable `cap_updated`."
   ]
  },
  {
   "cell_type": "code",
   "execution_count": 39,
   "metadata": {
    "id": "_fi3w8k_f4S9"
   },
   "outputs": [
    {
     "data": {
      "text/plain": [
       "'New York'"
      ]
     },
     "execution_count": 39,
     "metadata": {},
     "output_type": "execute_result"
    }
   ],
   "source": [
    "# Your code here...\n",
    "cap_updated = cap_1 + ' ' + cap_2\n",
    "cap_updated"
   ]
  },
  {
   "cell_type": "markdown",
   "metadata": {
    "id": "OleD8RgHf4S9"
   },
   "source": [
    "**21)** It can be very useful to know how many elements are in a list, ie to find its length. Python does this by using `len()`, which returns the length of the list. Given the list below, find its length and assign the result to the variable `len_list`"
   ]
  },
  {
   "cell_type": "code",
   "execution_count": 31,
   "metadata": {
    "id": "TBYOZTDuf4S-"
   },
   "outputs": [],
   "source": [
    "new_list = ['a', 'b', 0, 1, 2, 'c']"
   ]
  },
  {
   "cell_type": "code",
   "execution_count": 32,
   "metadata": {},
   "outputs": [
    {
     "name": "stdout",
     "output_type": "stream",
     "text": [
      "Help on built-in function len in module builtins:\n",
      "\n",
      "len(obj, /)\n",
      "    Return the number of items in a container.\n",
      "\n"
     ]
    }
   ],
   "source": [
    "help('len')"
   ]
  },
  {
   "cell_type": "code",
   "execution_count": 33,
   "metadata": {
    "id": "iNNe9g3-f4S-"
   },
   "outputs": [
    {
     "data": {
      "text/plain": [
       "6"
      ]
     },
     "execution_count": 33,
     "metadata": {},
     "output_type": "execute_result"
    }
   ],
   "source": [
    "# Your code here...\n",
    "len_list = len(new_list)\n",
    "len_list"
   ]
  },
  {
   "cell_type": "markdown",
   "metadata": {
    "id": "hF7a9O6jf4S-"
   },
   "source": [
    "**22** Find the length of the string below, `itly_cap`, and assign the result to the variable `rome_len`"
   ]
  },
  {
   "cell_type": "code",
   "execution_count": 34,
   "metadata": {
    "id": "Nvr-BtA6f4S-"
   },
   "outputs": [],
   "source": [
    "itly_cap = 'Rome'"
   ]
  },
  {
   "cell_type": "code",
   "execution_count": 35,
   "metadata": {
    "id": "ccQlcqTMf4S-"
   },
   "outputs": [
    {
     "data": {
      "text/plain": [
       "4"
      ]
     },
     "execution_count": 35,
     "metadata": {},
     "output_type": "execute_result"
    }
   ],
   "source": [
    "# Your code here...\n",
    "rome_len = len(itly_cap)\n",
    "rome_len"
   ]
  },
  {
   "cell_type": "markdown",
   "metadata": {
    "id": "LbdWn1yvf4S-"
   },
   "source": [
    "**23)** We often want to change an element in a list. This can be done by assigining the element in the list to the new value, \n",
    "**Example** `new_list[0] = 'z'` would overwrite 'a' with 'z'.  \n",
    "\n",
    "Try this using the list provided below, changing the first element to 'scooter'. The revised list will still  be called `transport_list`"
   ]
  },
  {
   "cell_type": "code",
   "execution_count": 36,
   "metadata": {
    "id": "n0PME7OEf4S-"
   },
   "outputs": [],
   "source": [
    "transport_list = ['car', 'bike', 'train', 'plane']"
   ]
  },
  {
   "cell_type": "code",
   "execution_count": 37,
   "metadata": {
    "id": "UEl5AGDuf4S-"
   },
   "outputs": [
    {
     "data": {
      "text/plain": [
       "['scooter', 'bike', 'train', 'plane']"
      ]
     },
     "execution_count": 37,
     "metadata": {},
     "output_type": "execute_result"
    }
   ],
   "source": [
    "# Your code here...\n",
    "transport_list[0] = 'scooter'\n",
    "transport_list"
   ]
  },
  {
   "cell_type": "markdown",
   "metadata": {
    "id": "2pX27OFIf4S_"
   },
   "source": [
    "**24)** Write an expression which finds the last letter of the first element in `transport_list` (as revised) and assign the result to the variable `last_letter`"
   ]
  },
  {
   "cell_type": "code",
   "execution_count": 38,
   "metadata": {
    "id": "y8eNKZRMf4S_"
   },
   "outputs": [
    {
     "data": {
      "text/plain": [
       "'r'"
      ]
     },
     "execution_count": 38,
     "metadata": {},
     "output_type": "execute_result"
    }
   ],
   "source": [
    "# Your code here...\n",
    "#get the first word and transform into a list\n",
    "first_w = transport_list[0]\n",
    "first_w\n",
    "last_letter = list(first_w)[-1]\n",
    "last_letter"
   ]
  }
 ],
 "metadata": {
  "colab": {
   "name": "intro_to_python_skills_practice_part_1.ipynb",
   "provenance": []
  },
  "kernelspec": {
   "display_name": "Python 3 (ipykernel)",
   "language": "python",
   "name": "python3"
  },
  "language_info": {
   "codemirror_mode": {
    "name": "ipython",
    "version": 3
   },
   "file_extension": ".py",
   "mimetype": "text/x-python",
   "name": "python",
   "nbconvert_exporter": "python",
   "pygments_lexer": "ipython3",
   "version": "3.7.17"
  }
 },
 "nbformat": 4,
 "nbformat_minor": 1
}
