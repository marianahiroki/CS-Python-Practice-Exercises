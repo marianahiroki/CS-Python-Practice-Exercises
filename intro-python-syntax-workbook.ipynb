{
 "cells": [
  {
   "cell_type": "markdown",
   "metadata": {
    "slideshow": {
     "slide_type": "slide"
    }
   },
   "source": [
    "**Following guidelines set expectations for participant behaviour during workshop activities. They also ensure that the class environment is welcoming, inclusive, and respectful.**\n",
    "- Where a discussion is taking place, allow everyone a chance to speak\n",
    "- Listen respectfully, without interrupting and with an open mind to understanding others’ views\n",
    "- Be professional and productive, and always share your ideas, your opinion matters, we all can learn something from each other\n",
    "- Personal information that comes up in the conversation should be kept confidential\n",
    "- Avoid inflammatory language\n",
    "- Avoid assumptions about any member of the class or generalisations about social groups"
   ]
  },
  {
   "cell_type": "markdown",
   "metadata": {
    "slideshow": {
     "slide_type": "slide"
    }
   },
   "source": [
    "**You have now joined a group of fellow analysts in a workshop:**\n",
    "#### Outcomes:\n",
    "\n",
    "- To complete a group activity to identify how Python could be useful for your job role\n",
    "- To be able to answer the questions to test your knowledge of Python syntax\n",
    "\n",
    "\n",
    "#### Note:\n",
    "- We understand learners will progress at their own speed\n",
    "- Tutors will be on hand to answer questions"
   ]
  },
  {
   "cell_type": "markdown",
   "metadata": {
    "slideshow": {
     "slide_type": "slide"
    }
   },
   "source": [
    "## Group activity\n",
    "\n",
    "- Identify how **Python** could be useful for your job role? And share your thoughts."
   ]
  },
  {
   "cell_type": "code",
   "execution_count": null,
   "metadata": {
    "slideshow": {
     "slide_type": "slide"
    }
   },
   "outputs": [],
   "source": [
    "#Python can be useful to automate data scrapping from websites\n",
    "\n"
   ]
  },
  {
   "cell_type": "markdown",
   "metadata": {
    "slideshow": {
     "slide_type": "slide"
    }
   },
   "source": [
    "## Introduction to Python syntax\n",
    "- Complete the following questions\n",
    "- Any code you write in the workbook should be re-usable where possible, i.e. it should work if the values assigned to any variables are modified."
   ]
  },
  {
   "cell_type": "markdown",
   "metadata": {
    "slideshow": {
     "slide_type": "slide"
    }
   },
   "source": [
    "### ☑️ Variable assignment and data types\n",
    "\n",
    "- Make sure you run the following code cells before you attempt any of the questions\n",
    "- First of all, let's assign some **values** of different **types** to some **variables**"
   ]
  },
  {
   "cell_type": "code",
   "execution_count": 32,
   "metadata": {
    "slideshow": {
     "slide_type": "slide"
    }
   },
   "outputs": [],
   "source": [
    "country = 'United Kingdom'\n",
    "language = 'English'\n",
    "capital = 'London'\n",
    "currency = 'GBP'\n",
    "population = 67886004\n",
    "area = 242495\n",
    "phone_code = '+44'\n",
    "gini = 33.1\n",
    "drive_on_right = False"
   ]
  },
  {
   "cell_type": "code",
   "execution_count": 3,
   "metadata": {
    "slideshow": {
     "slide_type": "slide"
    }
   },
   "outputs": [],
   "source": [
    "type(country), type(population), type(gini), type(drive_on_right)"
   ]
  },
  {
   "cell_type": "markdown",
   "metadata": {
    "slideshow": {
     "slide_type": "slide"
    }
   },
   "source": [
    "### ☑️ Basic arithmetic and operators"
   ]
  },
  {
   "cell_type": "markdown",
   "metadata": {
    "slideshow": {
     "slide_type": "slide"
    }
   },
   "source": [
    "**Q1)** Assign the result of `population` / `area` calculation to a new variable called `density`:"
   ]
  },
  {
   "cell_type": "code",
   "execution_count": 7,
   "metadata": {
    "slideshow": {
     "slide_type": "slide"
    }
   },
   "outputs": [],
   "source": [
    "#add your code below\n",
    "#density = 279.9480566609621\n",
    "density = population/area\n",
    "density\n",
    "int(density)"
   ]
  },
  {
   "cell_type": "markdown",
   "metadata": {
    "slideshow": {
     "slide_type": "slide"
    }
   },
   "source": [
    "### ☑️ Indexing"
   ]
  },
  {
   "cell_type": "markdown",
   "metadata": {
    "slideshow": {
     "slide_type": "slide"
    }
   },
   "source": [
    "We can access a series of characters of a `string` by providing numerical values (**indexes**) within **`[`square brackets`]`**.\n",
    "\n",
    "Syntax for accessing elements is:\n",
    "```python\n",
    "string_name[start:stop]\n",
    "```\n",
    "Remember that the character at the `stop` position is **not included**"
   ]
  },
  {
   "cell_type": "markdown",
   "metadata": {
    "slideshow": {
     "slide_type": "slide"
    }
   },
   "source": [
    "**Q2)** Select the first 3 characters of the `language` variable and assign it to a new variable called `language_code`:"
   ]
  },
  {
   "cell_type": "code",
   "execution_count": 35,
   "metadata": {
    "slideshow": {
     "slide_type": "slide"
    }
   },
   "outputs": [],
   "source": [
    "#add your code below\n",
    "#language_code = 'Engl'\n",
    "language_code=language[:3]\n",
    "language_code\n"
   ]
  },
  {
   "cell_type": "markdown",
   "metadata": {
    "slideshow": {
     "slide_type": "slide"
    }
   },
   "source": [
    "**Q3)** Except for the first character (`+` sign), select all other characters from `phone_code`, and assign the resulting string to a new variable called `dial_code`:"
   ]
  },
  {
   "cell_type": "code",
   "execution_count": 16,
   "metadata": {
    "slideshow": {
     "slide_type": "slide"
    }
   },
   "outputs": [],
   "source": [
    "#add your code below\n",
    "#dial_code = '44'\n",
    "dial_code = phone_code[1:]\n",
    "dial_code"
   ]
  },
  {
   "cell_type": "markdown",
   "metadata": {
    "slideshow": {
     "slide_type": "slide"
    }
   },
   "source": [
    "### ☑️ Type conversion"
   ]
  },
  {
   "cell_type": "markdown",
   "metadata": {
    "slideshow": {
     "slide_type": "slide"
    }
   },
   "source": [
    "**Q4)** `dial_code` from the previous question is a `string` but with the `+` sign removed. Convert the `dial_code` to an `int`, and then assign it a new variable called `dial_number`:\n",
    "\n",
    "- Hint: You can make use of `int()` function"
   ]
  },
  {
   "cell_type": "code",
   "execution_count": 18,
   "metadata": {
    "slideshow": {
     "slide_type": "slide"
    }
   },
   "outputs": [],
   "source": [
    "#add your code below\n",
    "#dial_number = 44\n",
    "dial_number = int(dial_code)\n",
    "dial_number"
   ]
  },
  {
   "cell_type": "markdown",
   "metadata": {
    "slideshow": {
     "slide_type": "slide"
    }
   },
   "source": [
    "### ☑️ String formatting"
   ]
  },
  {
   "cell_type": "markdown",
   "metadata": {
    "slideshow": {
     "slide_type": "slide"
    }
   },
   "source": [
    "**Q5)** Assign to a variable called `location` a string in the format of '`capital`, `country`' e.g. 'Berlin, Germany':\n",
    "\n",
    "- Hint: You can make use of `f-strings`"
   ]
  },
  {
   "cell_type": "code",
   "execution_count": 40,
   "metadata": {
    "slideshow": {
     "slide_type": "slide"
    }
   },
   "outputs": [],
   "source": [
    "#add your code below\n",
    "#location =\n",
    "location = capital + ', ' + country\n",
    "location\n"
   ]
  },
  {
   "cell_type": "code",
   "execution_count": 41,
   "metadata": {},
   "outputs": [],
   "source": [
    "f\"{capital}, {country}\""
   ]
  },
  {
   "cell_type": "markdown",
   "metadata": {
    "slideshow": {
     "slide_type": "slide"
    }
   },
   "source": [
    "### ☑️ Updating Variables"
   ]
  },
  {
   "cell_type": "markdown",
   "metadata": {
    "slideshow": {
     "slide_type": "slide"
    }
   },
   "source": [
    "**Q6)** Your code should work with different inputs of the same **type** and **format**:\n",
    "\n",
    "- Update **population** variable with **68632816**\n",
    "\n",
    "- Copy the code from **Q1** to the cell below and re-run the code"
   ]
  },
  {
   "cell_type": "code",
   "execution_count": 25,
   "metadata": {
    "slideshow": {
     "slide_type": "slide"
    }
   },
   "outputs": [],
   "source": [
    "#add your code below\n",
    "#population = 68632816\n",
    "population = 68632816\n",
    "density = population/area\n",
    "density\n",
    "int(density)"
   ]
  }
 ],
 "metadata": {
  "kernelspec": {
   "display_name": "Python 3 (ipykernel)",
   "language": "python",
   "name": "python3"
  },
  "language_info": {
   "codemirror_mode": {
    "name": "ipython",
    "version": 3
   },
   "file_extension": ".py",
   "mimetype": "text/x-python",
   "name": "python",
   "nbconvert_exporter": "python",
   "pygments_lexer": "ipython3",
   "version": "3.7.17"
  }
 },
 "nbformat": 4,
 "nbformat_minor": 4
}
